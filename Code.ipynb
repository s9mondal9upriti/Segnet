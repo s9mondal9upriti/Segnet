{
 "cells": [
  {
   "cell_type": "code",
   "execution_count": null,
   "metadata": {},
   "outputs": [],
   "source": [
    "import torch\n",
    "import torch.nn as nn\n",
    "import torch.nn.functional as F\n",
    "from torch.autograd import Variable\n",
    "torch.manual_seed(1234)\n",
    "\n",
    "#build model\n",
    "class Net(nn.Module):\n",
    "\n",
    "    def __init__(self):\n",
    "        super(Net, self).__init__()\n",
    "        \"\"\"\n",
    "        Encoder\n",
    "        \"\"\"\n",
    "        self.conv1c = nn.Conv1d(1, 6, kernel_size=3,stride=1,padding=1)\n",
    "        self.bt = nn.BatchNorm1d(6)\n",
    "        self.relu = nn.ReLU(inplace=True)\n",
    "        self.mp1 = nn.MaxPool1d(kernel_size=2,stride=2,return_indices=True)\n",
    "        \"\"\"\n",
    "        Decoder\n",
    "        \"\"\"\n",
    "        self.mup1 = nn.MaxUnpool1d(kernel_size=2,stride=2)\n",
    "        self.conv1d = nn.Conv1d(6, 6, kernel_size=3,padding=1)\n",
    "        self.conv11d = nn.Conv1d(6, 3, kernel_size=3, padding=1)\n",
    "        self.fc1 = nn.Linear(12, 3)\n",
    "        \n",
    "\n",
    "    def forward(self, x):\n",
    "        x=self.conv1c(x)\n",
    "        x=self.bt(x)\n",
    "        x = self.relu(x)\n",
    "        x,idx2 = self.mp1(x)    \n",
    "        x1=x\n",
    "        x=self.mup1(x,idx2)\n",
    "        x=self.conv1d(x)\n",
    "        x=self.bt(x)\n",
    "        x=self.relu(x)\n",
    "        x=self.conv11d(x)\n",
    "        x=x.view(-1,self.num_flat_features(x))\n",
    "        return x\n",
    "    def num_flat_features(self,x):\n",
    "        size=x.size()[1:]\n",
    "        num_features=1\n",
    "        for s in size:\n",
    "            num_features *= s\n",
    "        return num_features\n",
    "net = Net()\n"
   ]
  },
  {
   "cell_type": "code",
   "execution_count": null,
   "metadata": {},
   "outputs": [],
   "source": [
    "%matplotlib inline\n",
    "#print(__doc__)\n",
    "import numpy as np\n",
    "import matplotlib.pyplot as plt\n",
    "from sklearn import datasets\n",
    "from sklearn.model_selection import train_test_split\n",
    "\n",
    "\n",
    "# import some data to play with\n",
    "iris = datasets.load_iris()\n",
    "Xi = iris.data\n",
    "yi = iris.target\n",
    "x_train, x_test, y_train, y_test = train_test_split(Xi, yi, test_size=.5)\n"
   ]
  },
  {
   "cell_type": "code",
   "execution_count": null,
   "metadata": {},
   "outputs": [],
   "source": [
    "\n",
    "#hyperparameters\n",
    "lr = 0.01\n",
    "\n",
    "#choose optimizer and loss function\n",
    "criterion = nn.CrossEntropyLoss()\n",
    "optimizer = torch.optim.SGD(net.parameters(), lr=lr)\n",
    "m=len(x_train)\n",
    "x_train.shape=(m,1,4)\n",
    "x_train = Variable(torch.Tensor(x_train).float())\n",
    "Y = Variable(torch.Tensor(y_train).long())\n",
    "    \n",
    "#train\n",
    "for epoch in range(1000):\n",
    "    #Y=Y.view(1,1,150,-1)\n",
    "    #feedforwad - backprop\n",
    "    optimizer.zero_grad()\n",
    "    out = net(x_train)\n",
    "    loss = criterion(out, Y)\n",
    "    loss.backward()\n",
    "    optimizer.step()\n",
    "    if epoch % 100 == 0:\n",
    "        print('number of epoch', epoch, 'loss', loss.data)\n"
   ]
  },
  {
   "cell_type": "code",
   "execution_count": null,
   "metadata": {},
   "outputs": [],
   "source": [
    "#get prediction \n",
    "x_test=np.array(x_test) \n",
    "m=len(x_test) \n",
    "x_test.shape=(m,1,4) \n",
    "X = Variable(torch.Tensor(x_test).float()) \n",
    "Y = Variable(torch.Tensor(y_test).long())\n",
    "out = net(X)\n",
    "_, predicted = torch.max(out.data, 1) \n",
    "print(predicted)\n",
    "\n",
    "#get accuration \n",
    "print('Accuracy of the network %d %%' % (100 * torch.sum(Y==predicted) / m))\n"
   ]
  },
  {
   "cell_type": "code",
   "execution_count": null,
   "metadata": {},
   "outputs": [],
   "source": [
    "import matplotlib\n",
    "out=out.data.numpy()\n",
    "x=out[:,2]\n",
    "y=out[:,3]\n",
    "colors=['red','green','blue']\n",
    "plt.scatter(x,y,c=y_test,cmap=matplotlib.colors.ListedColormap(colors))\n",
    "plt.show()"
   ]
  },
  {
   "cell_type": "code",
   "execution_count": null,
   "metadata": {},
   "outputs": [],
   "source": []
  }
 ],
 "metadata": {
  "kernelspec": {
   "display_name": "Python 3",
   "language": "python",
   "name": "python3"
  },
  "language_info": {
   "codemirror_mode": {
    "name": "ipython",
    "version": 3
   },
   "file_extension": ".py",
   "mimetype": "text/x-python",
   "name": "python",
   "nbconvert_exporter": "python",
   "pygments_lexer": "ipython3",
   "version": "3.7.1"
  }
 },
 "nbformat": 4,
 "nbformat_minor": 2
}
